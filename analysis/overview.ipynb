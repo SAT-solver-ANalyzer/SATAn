{
 "cells": [
  {
   "cell_type": "code",
   "execution_count": 5,
   "id": "1f98ee14-9acd-4b98-8937-7a3f7a6b9df7",
   "metadata": {
    "tags": []
   },
   "outputs": [],
   "source": [
    "import duckdb\n",
    "import pandas as pd\n",
    "# No need to import duckdb_engine\n",
    "#  jupysql will auto-detect the driver needed based on the connection string!\n",
    "\n",
    "# Import jupysql Jupyter extension to create SQL cells\n",
    "con = duckdb.connect(\"../satan.db\")"
   ]
  },
  {
   "cell_type": "code",
   "execution_count": 16,
   "id": "c53ec8a4-0756-459d-a33a-512bb2d2aa1d",
   "metadata": {},
   "outputs": [
    {
     "name": "stdout",
     "output_type": "stream",
     "text": [
      "0.7.1\n",
      "1\n"
     ]
    },
    {
     "data": {
      "text/plain": [
       "┌─────────┬─────────────┬────────────────┐\n",
       "│  name   │ satisfiable │ count(runs.id) │\n",
       "│ varchar │    int8     │     int64      │\n",
       "├─────────┼─────────────┼────────────────┤\n",
       "│ cadical │           0 │           1894 │\n",
       "│ cadical │           1 │           4406 │\n",
       "│ cadical │          -1 │           1504 │\n",
       "│ minisat │           0 │           2468 │\n",
       "│ minisat │           1 │           3673 │\n",
       "│ minisat │          -1 │           1824 │\n",
       "└─────────┴─────────────┴────────────────┘"
      ]
     },
     "execution_count": 16,
     "metadata": {},
     "output_type": "execute_result"
    }
   ],
   "source": [
    "print(duckdb.__version__)\n",
    "benchmark = con.sql(\"select id from benchmarks order by id desc limit 1\").fetchall()\n",
    "\n",
    "if len(benchmark) != 1:\n",
    "    print(\"No benchmark found\")\n",
    "    \n",
    "    raise Error(\"No analysis possible\")\n",
    "else:\n",
    "    benchmark = benchmark[0][0]\n",
    "\n",
    "con.sql(\"\"\"select\n",
    "        solvers.name, satisfiable, count(runs.id)\n",
    "        from runs join solvers on (runs.solver = solvers.id)\n",
    "        where benchmark = (select id from benchmarks order by id desc limit 1)\n",
    "        group by satisfiable, solvers.name\n",
    "        order by solvers.name;\n",
    "        \"\"\")"
   ]
  },
  {
   "cell_type": "code",
   "execution_count": null,
   "id": "12256eb8-ef12-4197-a579-ac913b5d7a46",
   "metadata": {},
   "outputs": [],
   "source": []
  }
 ],
 "metadata": {
  "kernelspec": {
   "display_name": "python-analysis kernel",
   "language": "python",
   "name": "python-analysis"
  },
  "language_info": {
   "codemirror_mode": {
    "name": "ipython",
    "version": 3
   },
   "file_extension": ".py",
   "mimetype": "text/x-python",
   "name": "python",
   "nbconvert_exporter": "python",
   "pygments_lexer": "ipython3",
   "version": "3.11.1"
  }
 },
 "nbformat": 4,
 "nbformat_minor": 5
}
