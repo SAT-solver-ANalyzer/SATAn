{
 "cells": [
  {
   "cell_type": "code",
   "execution_count": 1,
   "id": "38af7764-5457-4f0c-ae8d-8115c42040e5",
   "metadata": {
    "tags": []
   },
   "outputs": [
    {
     "name": "stdout",
     "output_type": "stream",
     "text": [
      "[(1605, 1)]\n"
     ]
    }
   ],
   "source": [
    "import sqlite3\n",
    "import matplotlib.pyplot as plt\n",
    "import pandas as pd\n",
    "\n",
    "con = sqlite3.connect(\"../satan.db\")\n",
    "\n",
    "print(con.execute(\"select count(*), benchmark from runs group by benchmark\").fetchall())"
   ]
  },
  {
   "cell_type": "code",
   "execution_count": 2,
   "id": "3ee7bbdf-a5f1-412a-bd10-24947fba3cfe",
   "metadata": {},
   "outputs": [
    {
     "name": "stdout",
     "output_type": "stream",
     "text": [
      "Number: 472, result: -1\n",
      "Number: 20, result: 0\n",
      "Number: 1113, result: 1\n"
     ]
    }
   ],
   "source": [
    "results = con.execute(\"\"\"select\n",
    "count(id), satisfiable\n",
    "from runs\n",
    "where benchmark = (select max(id) from benchmarks)\n",
    "group by satisfiable\"\"\").fetchall()\n",
    "\n",
    "for number, satisfiable in results:\n",
    "    print(f\"Number: {number}, result: {satisfiable}\")"
   ]
  },
  {
   "cell_type": "code",
   "execution_count": 3,
   "id": "2b1eaf0a-70cc-49ed-af7e-1379659afb49",
   "metadata": {
    "tags": []
   },
   "outputs": [
    {
     "name": "stdout",
     "output_type": "stream",
     "text": [
      "Solver cadical takes on average 29.36842105263158 ms and 24.523643092105264 MB\n",
      "Solver minisat takes on average 86.78060606060606 ms and 10.404694602272727 MB\n",
      "('cadical', 25088, None)\n",
      "('minisat', 10547, 85)\n",
      "('cadical', 25088, None)\n",
      "('minisat', 10547, 74)\n",
      "('cadical', 25088, None)\n",
      "('minisat', 10547, 94)\n",
      "('minisat', 10547, 88)\n",
      "('cadical', 25210, None)\n",
      "('minisat', 10547, 84)\n",
      "('cadical', 25210, None)\n",
      "('minisat', 10547, 84)\n",
      "('cadical', 25088, None)\n",
      "('minisat', 10547, 81)\n",
      "('cadical', 25088, None)\n",
      "('minisat', 10547, 78)\n",
      "('cadical', 25088, None)\n",
      "('minisat', 10547, 75)\n",
      "('cadical', 25088, None)\n",
      "('cadical', 25210, None)\n"
     ]
    }
   ],
   "source": [
    "for solver, runtime, memory in con.execute(\"select solvers.name as name, avg(runs.runtime) as runtime, avg(runs.memory_usage) as memory from runs join solvers on solvers.id = runs.solver where runs.runtime is not null group by runs.solver\").fetchall():\n",
    "        print(f\"Solver {solver} takes on average {runtime} ms and {memory / 1024} MB\")       "
   ]
  },
  {
   "cell_type": "code",
   "execution_count": 110,
   "id": "3e1c691c-f349-42d6-a064-67529828f2c6",
   "metadata": {
    "tags": []
   },
   "outputs": [],
   "source": [
    "df = pd.read_sql(\"select solver, avg(runtime) as runtime, satisfiable from runs where satisfiable != 0 and runtime not null group by target,solver\", con)"
   ]
  },
  {
   "cell_type": "code",
   "execution_count": 111,
   "id": "2b428e2f-57f7-4244-8482-4efc73ed8aad",
   "metadata": {
    "tags": []
   },
   "outputs": [
    {
     "data": {
      "text/html": [
       "<div>\n",
       "<style scoped>\n",
       "    .dataframe tbody tr th:only-of-type {\n",
       "        vertical-align: middle;\n",
       "    }\n",
       "\n",
       "    .dataframe tbody tr th {\n",
       "        vertical-align: top;\n",
       "    }\n",
       "\n",
       "    .dataframe thead th {\n",
       "        text-align: right;\n",
       "    }\n",
       "</style>\n",
       "<table border=\"1\" class=\"dataframe\">\n",
       "  <thead>\n",
       "    <tr style=\"text-align: right;\">\n",
       "      <th></th>\n",
       "      <th>solver</th>\n",
       "      <th>runtime</th>\n",
       "      <th>satisfiable</th>\n",
       "    </tr>\n",
       "  </thead>\n",
       "  <tbody>\n",
       "    <tr>\n",
       "      <th>0</th>\n",
       "      <td>1</td>\n",
       "      <td>106.000000</td>\n",
       "      <td>-1</td>\n",
       "    </tr>\n",
       "    <tr>\n",
       "      <th>1</th>\n",
       "      <td>2</td>\n",
       "      <td>114.500000</td>\n",
       "      <td>-1</td>\n",
       "    </tr>\n",
       "    <tr>\n",
       "      <th>2</th>\n",
       "      <td>2</td>\n",
       "      <td>67.900000</td>\n",
       "      <td>-1</td>\n",
       "    </tr>\n",
       "    <tr>\n",
       "      <th>3</th>\n",
       "      <td>1</td>\n",
       "      <td>10.000000</td>\n",
       "      <td>-1</td>\n",
       "    </tr>\n",
       "    <tr>\n",
       "      <th>4</th>\n",
       "      <td>2</td>\n",
       "      <td>89.900000</td>\n",
       "      <td>-1</td>\n",
       "    </tr>\n",
       "    <tr>\n",
       "      <th>...</th>\n",
       "      <td>...</td>\n",
       "      <td>...</td>\n",
       "      <td>...</td>\n",
       "    </tr>\n",
       "    <tr>\n",
       "      <th>89</th>\n",
       "      <td>2</td>\n",
       "      <td>85.111111</td>\n",
       "      <td>1</td>\n",
       "    </tr>\n",
       "    <tr>\n",
       "      <th>90</th>\n",
       "      <td>2</td>\n",
       "      <td>85.000000</td>\n",
       "      <td>-1</td>\n",
       "    </tr>\n",
       "    <tr>\n",
       "      <th>91</th>\n",
       "      <td>2</td>\n",
       "      <td>88.777778</td>\n",
       "      <td>-1</td>\n",
       "    </tr>\n",
       "    <tr>\n",
       "      <th>92</th>\n",
       "      <td>2</td>\n",
       "      <td>86.800000</td>\n",
       "      <td>-1</td>\n",
       "    </tr>\n",
       "    <tr>\n",
       "      <th>93</th>\n",
       "      <td>2</td>\n",
       "      <td>84.200000</td>\n",
       "      <td>-1</td>\n",
       "    </tr>\n",
       "  </tbody>\n",
       "</table>\n",
       "<p>94 rows × 3 columns</p>\n",
       "</div>"
      ],
      "text/plain": [
       "    solver     runtime  satisfiable\n",
       "0        1  106.000000           -1\n",
       "1        2  114.500000           -1\n",
       "2        2   67.900000           -1\n",
       "3        1   10.000000           -1\n",
       "4        2   89.900000           -1\n",
       "..     ...         ...          ...\n",
       "89       2   85.111111            1\n",
       "90       2   85.000000           -1\n",
       "91       2   88.777778           -1\n",
       "92       2   86.800000           -1\n",
       "93       2   84.200000           -1\n",
       "\n",
       "[94 rows x 3 columns]"
      ]
     },
     "execution_count": 111,
     "metadata": {},
     "output_type": "execute_result"
    }
   ],
   "source": [
    "df"
   ]
  },
  {
   "cell_type": "code",
   "execution_count": 136,
   "id": "8bfab25a-f9a3-4bed-8436-86cd40184cd1",
   "metadata": {},
   "outputs": [
    {
     "data": {
      "text/plain": [
       "Text(0, 0.5, 'solved')"
      ]
     },
     "execution_count": 136,
     "metadata": {},
     "output_type": "execute_result"
    },
    {
     "data": {
      "image/png": "[encoded data removed]",
      "text/plain": [
       "<Figure size 2000x500 with 2 Axes>"
      ]
     },
     "metadata": {},
     "output_type": "display_data"
    }
   ],
   "source": [
    "import matplotlib.pyplot as plt\n",
    "import pylab\n",
    "\n",
    "plt.close(\"all\")\n",
    "\n",
    "df1 = df.groupby(by=[\"solver\", pd.cut(df['runtime'], bins=range(10, 500, 1))]).size().reset_index()\n",
    "df1[\"runtime\"] = df1[\"runtime\"].map(lambda x: x.right)\n",
    "\n",
    "ax = df1.loc[df1[0] != 0].plot.scatter(y=0, title=\"Solved tests in runtime\", x=\"runtime\", c=\"solver\", colormap='viridis', figsize=(20,5), legend=False)\n",
    "ax.set_xlabel(\"runtime\")\n",
    "ax.set_ylabel(\"solved\")"
   ]
  },
  {
   "cell_type": "code",
   "execution_count": 114,
   "id": "c4fed342-ff92-4b00-a008-f8fcc505492e",
   "metadata": {},
   "outputs": [
    {
     "data": {
      "text/html": [
       "<div>\n",
       "<style scoped>\n",
       "    .dataframe tbody tr th:only-of-type {\n",
       "        vertical-align: middle;\n",
       "    }\n",
       "\n",
       "    .dataframe tbody tr th {\n",
       "        vertical-align: top;\n",
       "    }\n",
       "\n",
       "    .dataframe thead th {\n",
       "        text-align: right;\n",
       "    }\n",
       "</style>\n",
       "<table border=\"1\" class=\"dataframe\">\n",
       "  <thead>\n",
       "    <tr style=\"text-align: right;\">\n",
       "      <th></th>\n",
       "      <th>solver</th>\n",
       "      <th>runtime</th>\n",
       "      <th>0</th>\n",
       "    </tr>\n",
       "  </thead>\n",
       "  <tbody>\n",
       "    <tr>\n",
       "      <th>0</th>\n",
       "      <td>1</td>\n",
       "      <td>15</td>\n",
       "      <td>1</td>\n",
       "    </tr>\n",
       "    <tr>\n",
       "      <th>1</th>\n",
       "      <td>1</td>\n",
       "      <td>20</td>\n",
       "      <td>0</td>\n",
       "    </tr>\n",
       "    <tr>\n",
       "      <th>2</th>\n",
       "      <td>1</td>\n",
       "      <td>25</td>\n",
       "      <td>1</td>\n",
       "    </tr>\n",
       "    <tr>\n",
       "      <th>3</th>\n",
       "      <td>1</td>\n",
       "      <td>30</td>\n",
       "      <td>0</td>\n",
       "    </tr>\n",
       "    <tr>\n",
       "      <th>4</th>\n",
       "      <td>1</td>\n",
       "      <td>35</td>\n",
       "      <td>0</td>\n",
       "    </tr>\n",
       "    <tr>\n",
       "      <th>...</th>\n",
       "      <td>...</td>\n",
       "      <td>...</td>\n",
       "      <td>...</td>\n",
       "    </tr>\n",
       "    <tr>\n",
       "      <th>1989</th>\n",
       "      <td>2</td>\n",
       "      <td>4975</td>\n",
       "      <td>0</td>\n",
       "    </tr>\n",
       "    <tr>\n",
       "      <th>1990</th>\n",
       "      <td>2</td>\n",
       "      <td>4980</td>\n",
       "      <td>0</td>\n",
       "    </tr>\n",
       "    <tr>\n",
       "      <th>1991</th>\n",
       "      <td>2</td>\n",
       "      <td>4985</td>\n",
       "      <td>0</td>\n",
       "    </tr>\n",
       "    <tr>\n",
       "      <th>1992</th>\n",
       "      <td>2</td>\n",
       "      <td>4990</td>\n",
       "      <td>0</td>\n",
       "    </tr>\n",
       "    <tr>\n",
       "      <th>1993</th>\n",
       "      <td>2</td>\n",
       "      <td>4995</td>\n",
       "      <td>0</td>\n",
       "    </tr>\n",
       "  </tbody>\n",
       "</table>\n",
       "<p>1994 rows × 3 columns</p>\n",
       "</div>"
      ],
      "text/plain": [
       "      solver runtime  0\n",
       "0          1      15  1\n",
       "1          1      20  0\n",
       "2          1      25  1\n",
       "3          1      30  0\n",
       "4          1      35  0\n",
       "...      ...     ... ..\n",
       "1989       2    4975  0\n",
       "1990       2    4980  0\n",
       "1991       2    4985  0\n",
       "1992       2    4990  0\n",
       "1993       2    4995  0\n",
       "\n",
       "[1994 rows x 3 columns]"
      ]
     },
     "execution_count": 114,
     "metadata": {},
     "output_type": "execute_result"
    }
   ],
   "source": [
    "df1"
   ]
  },
  {
   "cell_type": "code",
   "execution_count": null,
   "id": "7d87d0c9-066b-47b5-a757-a7e4f2af2f94",
   "metadata": {},
   "outputs": [],
   "source": []
  }
 ],
 "metadata": {
  "kernelspec": {
   "display_name": "python-analysis kernel",
   "language": "python",
   "name": "python-analysis"
  },
  "language_info": {
   "codemirror_mode": {
    "name": "ipython",
    "version": 3
   },
   "file_extension": ".py",
   "mimetype": "text/x-python",
   "name": "python",
   "nbconvert_exporter": "python",
   "pygments_lexer": "ipython3",
   "version": "3.11.1"
  }
 },
 "nbformat": 4,
 "nbformat_minor": 5
}
